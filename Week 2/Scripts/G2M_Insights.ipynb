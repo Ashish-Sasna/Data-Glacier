{
 "cells": [
  {
   "cell_type": "markdown",
   "id": "091d0dad",
   "metadata": {},
   "source": [
    "# 🚕G2M insight for Cab Investment firm"
   ]
  },
  {
   "cell_type": "markdown",
   "id": "69650e98",
   "metadata": {},
   "source": [
    "XYZ is a private firm in US. Due to remarkable growth in the Cab Industry in last few years and multiple key players in the market, it is planning for an investment in Cab industry and as per their Go-to-Market(G2M) strategy they want to understand the market before taking final decision."
   ]
  },
  {
   "cell_type": "markdown",
   "id": "bda1104b",
   "metadata": {},
   "source": [
    "The primary objective of this report is to extract meaningful insights from an analysis of two cab companies, with a focus on comprehending their respective usage patterns among customers across the United States. The overarching goal is to furnish XYZ with valuable information that will facilitate informed decision-making regarding strategic investments, thereby paving the way for successful and sustainable growth."
   ]
  },
  {
   "cell_type": "markdown",
   "id": "1b245dc8",
   "metadata": {},
   "source": [
    "# ⤵️IMPORT LIBRARIES"
   ]
  },
  {
   "cell_type": "code",
   "execution_count": 1,
   "id": "51b6d928",
   "metadata": {},
   "outputs": [],
   "source": [
    "import os\n",
    "import numpy as np\n",
    "import pandas as pd\n",
    "\n",
    "import seaborn as sns\n",
    "\n",
    "import xlrd\n",
    "\n",
    "import matplotlib.pyplot as plt\n",
    "%matplotlib inline"
   ]
  },
  {
   "cell_type": "code",
   "execution_count": 2,
   "id": "46ac00f5",
   "metadata": {},
   "outputs": [],
   "source": [
    "%config Completer.use_jedi = False"
   ]
  },
  {
   "cell_type": "markdown",
   "id": "b902d5d7",
   "metadata": {},
   "source": [
    "# 📂LOAD DATA"
   ]
  },
  {
   "cell_type": "markdown",
   "id": "89c9a128",
   "metadata": {},
   "source": [
    "The data set provided contains 4 different files - \n",
    "> - Cab_data.csv: It contains the information regarding the transactions of 2 cab companies\n",
    "> - City.csv: It contains information regarding the users of the cab companies in different US cities along with their total population\n",
    "> - Customer_ID.csv: It contains the customer information such as salary, age and their transsactions.\n",
    "> - Transaction_ID.csv: It conatins the transactions done by customers and their mode of payments."
   ]
  },
  {
   "cell_type": "code",
   "execution_count": 3,
   "id": "9a7deb03",
   "metadata": {},
   "outputs": [],
   "source": [
    "os.chdir('..')\n",
    "currPath = os.getcwd()\n",
    "currPath = currPath.replace('\\\\', \n",
    "                            '/')\n",
    "dataPath = currPath + '/Dataset'"
   ]
  },
  {
   "cell_type": "code",
   "execution_count": 4,
   "id": "1cd3602b",
   "metadata": {},
   "outputs": [],
   "source": [
    "## Cab data\n",
    "cab_data = pd.read_csv(dataPath+'/Cab_data.csv', \n",
    "                       encoding='utf-8')\n",
    "\n",
    "## City data\n",
    "city_data = pd.read_csv(dataPath+'/City.csv', \n",
    "                        encoding='utf-8')\n",
    "\n",
    "## Customer data\n",
    "cust_data = pd.read_csv(dataPath+'/Customer_ID.csv', \n",
    "                        encoding='utf-8')\n",
    "\n",
    "## Transaction data\n",
    "trans_data = pd.read_csv(dataPath+'/Transaction_ID.csv', \n",
    "                         encoding='utf-8')"
   ]
  },
  {
   "cell_type": "code",
   "execution_count": 5,
   "id": "55c4f66e",
   "metadata": {},
   "outputs": [
    {
     "data": {
      "text/html": [
       "<div>\n",
       "<style scoped>\n",
       "    .dataframe tbody tr th:only-of-type {\n",
       "        vertical-align: middle;\n",
       "    }\n",
       "\n",
       "    .dataframe tbody tr th {\n",
       "        vertical-align: top;\n",
       "    }\n",
       "\n",
       "    .dataframe thead th {\n",
       "        text-align: right;\n",
       "    }\n",
       "</style>\n",
       "<table border=\"1\" class=\"dataframe\">\n",
       "  <thead>\n",
       "    <tr style=\"text-align: right;\">\n",
       "      <th></th>\n",
       "      <th>Transaction ID</th>\n",
       "      <th>Date of Travel</th>\n",
       "      <th>Company</th>\n",
       "      <th>City</th>\n",
       "      <th>KM Travelled</th>\n",
       "      <th>Price Charged</th>\n",
       "      <th>Cost of Trip</th>\n",
       "    </tr>\n",
       "  </thead>\n",
       "  <tbody>\n",
       "    <tr>\n",
       "      <th>0</th>\n",
       "      <td>10000011</td>\n",
       "      <td>42377</td>\n",
       "      <td>Pink Cab</td>\n",
       "      <td>ATLANTA GA</td>\n",
       "      <td>30.45</td>\n",
       "      <td>370.95</td>\n",
       "      <td>313.635</td>\n",
       "    </tr>\n",
       "    <tr>\n",
       "      <th>1</th>\n",
       "      <td>10000012</td>\n",
       "      <td>42375</td>\n",
       "      <td>Pink Cab</td>\n",
       "      <td>ATLANTA GA</td>\n",
       "      <td>28.62</td>\n",
       "      <td>358.52</td>\n",
       "      <td>334.854</td>\n",
       "    </tr>\n",
       "    <tr>\n",
       "      <th>2</th>\n",
       "      <td>10000013</td>\n",
       "      <td>42371</td>\n",
       "      <td>Pink Cab</td>\n",
       "      <td>ATLANTA GA</td>\n",
       "      <td>9.04</td>\n",
       "      <td>125.20</td>\n",
       "      <td>97.632</td>\n",
       "    </tr>\n",
       "    <tr>\n",
       "      <th>3</th>\n",
       "      <td>10000014</td>\n",
       "      <td>42376</td>\n",
       "      <td>Pink Cab</td>\n",
       "      <td>ATLANTA GA</td>\n",
       "      <td>33.17</td>\n",
       "      <td>377.40</td>\n",
       "      <td>351.602</td>\n",
       "    </tr>\n",
       "    <tr>\n",
       "      <th>4</th>\n",
       "      <td>10000015</td>\n",
       "      <td>42372</td>\n",
       "      <td>Pink Cab</td>\n",
       "      <td>ATLANTA GA</td>\n",
       "      <td>8.73</td>\n",
       "      <td>114.62</td>\n",
       "      <td>97.776</td>\n",
       "    </tr>\n",
       "  </tbody>\n",
       "</table>\n",
       "</div>"
      ],
      "text/plain": [
       "   Transaction ID  Date of Travel   Company        City  KM Travelled  \\\n",
       "0        10000011           42377  Pink Cab  ATLANTA GA         30.45   \n",
       "1        10000012           42375  Pink Cab  ATLANTA GA         28.62   \n",
       "2        10000013           42371  Pink Cab  ATLANTA GA          9.04   \n",
       "3        10000014           42376  Pink Cab  ATLANTA GA         33.17   \n",
       "4        10000015           42372  Pink Cab  ATLANTA GA          8.73   \n",
       "\n",
       "   Price Charged  Cost of Trip  \n",
       "0         370.95       313.635  \n",
       "1         358.52       334.854  \n",
       "2         125.20        97.632  \n",
       "3         377.40       351.602  \n",
       "4         114.62        97.776  "
      ]
     },
     "execution_count": 5,
     "metadata": {},
     "output_type": "execute_result"
    }
   ],
   "source": [
    "cab_data.head(5)"
   ]
  },
  {
   "cell_type": "code",
   "execution_count": 6,
   "id": "510818d1",
   "metadata": {},
   "outputs": [
    {
     "data": {
      "text/html": [
       "<div>\n",
       "<style scoped>\n",
       "    .dataframe tbody tr th:only-of-type {\n",
       "        vertical-align: middle;\n",
       "    }\n",
       "\n",
       "    .dataframe tbody tr th {\n",
       "        vertical-align: top;\n",
       "    }\n",
       "\n",
       "    .dataframe thead th {\n",
       "        text-align: right;\n",
       "    }\n",
       "</style>\n",
       "<table border=\"1\" class=\"dataframe\">\n",
       "  <thead>\n",
       "    <tr style=\"text-align: right;\">\n",
       "      <th></th>\n",
       "      <th>City</th>\n",
       "      <th>Population</th>\n",
       "      <th>Users</th>\n",
       "    </tr>\n",
       "  </thead>\n",
       "  <tbody>\n",
       "    <tr>\n",
       "      <th>0</th>\n",
       "      <td>NEW YORK NY</td>\n",
       "      <td>8,405,837</td>\n",
       "      <td>302,149</td>\n",
       "    </tr>\n",
       "    <tr>\n",
       "      <th>1</th>\n",
       "      <td>CHICAGO IL</td>\n",
       "      <td>1,955,130</td>\n",
       "      <td>164,468</td>\n",
       "    </tr>\n",
       "    <tr>\n",
       "      <th>2</th>\n",
       "      <td>LOS ANGELES CA</td>\n",
       "      <td>1,595,037</td>\n",
       "      <td>144,132</td>\n",
       "    </tr>\n",
       "    <tr>\n",
       "      <th>3</th>\n",
       "      <td>MIAMI FL</td>\n",
       "      <td>1,339,155</td>\n",
       "      <td>17,675</td>\n",
       "    </tr>\n",
       "    <tr>\n",
       "      <th>4</th>\n",
       "      <td>SILICON VALLEY</td>\n",
       "      <td>1,177,609</td>\n",
       "      <td>27,247</td>\n",
       "    </tr>\n",
       "  </tbody>\n",
       "</table>\n",
       "</div>"
      ],
      "text/plain": [
       "             City   Population      Users\n",
       "0     NEW YORK NY   8,405,837    302,149 \n",
       "1      CHICAGO IL   1,955,130    164,468 \n",
       "2  LOS ANGELES CA   1,595,037    144,132 \n",
       "3        MIAMI FL   1,339,155     17,675 \n",
       "4  SILICON VALLEY   1,177,609     27,247 "
      ]
     },
     "execution_count": 6,
     "metadata": {},
     "output_type": "execute_result"
    }
   ],
   "source": [
    "city_data.head(5)"
   ]
  },
  {
   "cell_type": "code",
   "execution_count": 7,
   "id": "74fd7f7f",
   "metadata": {},
   "outputs": [
    {
     "data": {
      "text/html": [
       "<div>\n",
       "<style scoped>\n",
       "    .dataframe tbody tr th:only-of-type {\n",
       "        vertical-align: middle;\n",
       "    }\n",
       "\n",
       "    .dataframe tbody tr th {\n",
       "        vertical-align: top;\n",
       "    }\n",
       "\n",
       "    .dataframe thead th {\n",
       "        text-align: right;\n",
       "    }\n",
       "</style>\n",
       "<table border=\"1\" class=\"dataframe\">\n",
       "  <thead>\n",
       "    <tr style=\"text-align: right;\">\n",
       "      <th></th>\n",
       "      <th>Customer ID</th>\n",
       "      <th>Gender</th>\n",
       "      <th>Age</th>\n",
       "      <th>Income (USD/Month)</th>\n",
       "    </tr>\n",
       "  </thead>\n",
       "  <tbody>\n",
       "    <tr>\n",
       "      <th>0</th>\n",
       "      <td>29290</td>\n",
       "      <td>Male</td>\n",
       "      <td>28</td>\n",
       "      <td>10813</td>\n",
       "    </tr>\n",
       "    <tr>\n",
       "      <th>1</th>\n",
       "      <td>27703</td>\n",
       "      <td>Male</td>\n",
       "      <td>27</td>\n",
       "      <td>9237</td>\n",
       "    </tr>\n",
       "    <tr>\n",
       "      <th>2</th>\n",
       "      <td>28712</td>\n",
       "      <td>Male</td>\n",
       "      <td>53</td>\n",
       "      <td>11242</td>\n",
       "    </tr>\n",
       "    <tr>\n",
       "      <th>3</th>\n",
       "      <td>28020</td>\n",
       "      <td>Male</td>\n",
       "      <td>23</td>\n",
       "      <td>23327</td>\n",
       "    </tr>\n",
       "    <tr>\n",
       "      <th>4</th>\n",
       "      <td>27182</td>\n",
       "      <td>Male</td>\n",
       "      <td>33</td>\n",
       "      <td>8536</td>\n",
       "    </tr>\n",
       "  </tbody>\n",
       "</table>\n",
       "</div>"
      ],
      "text/plain": [
       "   Customer ID Gender  Age  Income (USD/Month)\n",
       "0        29290   Male   28               10813\n",
       "1        27703   Male   27                9237\n",
       "2        28712   Male   53               11242\n",
       "3        28020   Male   23               23327\n",
       "4        27182   Male   33                8536"
      ]
     },
     "execution_count": 7,
     "metadata": {},
     "output_type": "execute_result"
    }
   ],
   "source": [
    "cust_data.head(5)"
   ]
  },
  {
   "cell_type": "code",
   "execution_count": 8,
   "id": "aa656621",
   "metadata": {},
   "outputs": [
    {
     "data": {
      "text/html": [
       "<div>\n",
       "<style scoped>\n",
       "    .dataframe tbody tr th:only-of-type {\n",
       "        vertical-align: middle;\n",
       "    }\n",
       "\n",
       "    .dataframe tbody tr th {\n",
       "        vertical-align: top;\n",
       "    }\n",
       "\n",
       "    .dataframe thead th {\n",
       "        text-align: right;\n",
       "    }\n",
       "</style>\n",
       "<table border=\"1\" class=\"dataframe\">\n",
       "  <thead>\n",
       "    <tr style=\"text-align: right;\">\n",
       "      <th></th>\n",
       "      <th>Transaction ID</th>\n",
       "      <th>Customer ID</th>\n",
       "      <th>Payment_Mode</th>\n",
       "    </tr>\n",
       "  </thead>\n",
       "  <tbody>\n",
       "    <tr>\n",
       "      <th>0</th>\n",
       "      <td>10000011</td>\n",
       "      <td>29290</td>\n",
       "      <td>Card</td>\n",
       "    </tr>\n",
       "    <tr>\n",
       "      <th>1</th>\n",
       "      <td>10000012</td>\n",
       "      <td>27703</td>\n",
       "      <td>Card</td>\n",
       "    </tr>\n",
       "    <tr>\n",
       "      <th>2</th>\n",
       "      <td>10000013</td>\n",
       "      <td>28712</td>\n",
       "      <td>Cash</td>\n",
       "    </tr>\n",
       "    <tr>\n",
       "      <th>3</th>\n",
       "      <td>10000014</td>\n",
       "      <td>28020</td>\n",
       "      <td>Cash</td>\n",
       "    </tr>\n",
       "    <tr>\n",
       "      <th>4</th>\n",
       "      <td>10000015</td>\n",
       "      <td>27182</td>\n",
       "      <td>Card</td>\n",
       "    </tr>\n",
       "  </tbody>\n",
       "</table>\n",
       "</div>"
      ],
      "text/plain": [
       "   Transaction ID  Customer ID Payment_Mode\n",
       "0        10000011        29290         Card\n",
       "1        10000012        27703         Card\n",
       "2        10000013        28712         Cash\n",
       "3        10000014        28020         Cash\n",
       "4        10000015        27182         Card"
      ]
     },
     "execution_count": 8,
     "metadata": {},
     "output_type": "execute_result"
    }
   ],
   "source": [
    "trans_data.head()"
   ]
  },
  {
   "cell_type": "markdown",
   "id": "33a98820",
   "metadata": {},
   "source": [
    "Based on the results of *head()* command, we can see some the columns are common among the provided datasets.\n",
    "> - **city_data** and **cab_data** datasets have **City** as the common feature.\n",
    "> - **customer_data** and **transaction_data** datasets have **Customer_ID** as the common feature.\n",
    "> - **cab_data** and **transaction_data** datasets have **Transaction_ID** as the common features.\n",
    "\n",
    "Merging the datasets together based on the common features will help us analyse the data based on transaction, city, and income of the customers."
   ]
  },
  {
   "cell_type": "markdown",
   "id": "15abbf78",
   "metadata": {},
   "source": [
    "## Merge the data "
   ]
  },
  {
   "cell_type": "markdown",
   "id": "138a704f",
   "metadata": {},
   "source": [
    "As we have multiple datasets with common features in each, we need to merge the datasets together into 1 whole dataset."
   ]
  },
  {
   "cell_type": "code",
   "execution_count": 20,
   "id": "702f9aa8",
   "metadata": {},
   "outputs": [
    {
     "data": {
      "text/plain": [
       "['ATLANTA GA',\n",
       " 'AUSTIN TX',\n",
       " 'BOSTON MA',\n",
       " 'CHICAGO IL',\n",
       " 'DALLAS TX',\n",
       " 'DENVER CO',\n",
       " 'LOS ANGELES CA',\n",
       " 'MIAMI FL',\n",
       " 'NASHVILLE TN',\n",
       " 'NEW YORK NY',\n",
       " 'ORANGE COUNTY',\n",
       " 'PHOENIX AZ',\n",
       " 'PITTSBURGH PA',\n",
       " 'SACRAMENTO CA',\n",
       " 'SAN DIEGO CA',\n",
       " 'SEATTLE WA',\n",
       " 'SILICON VALLEY',\n",
       " 'TUCSON AZ',\n",
       " 'WASHINGTON DC']"
      ]
     },
     "execution_count": 20,
     "metadata": {},
     "output_type": "execute_result"
    }
   ],
   "source": [
    "sorted(cab_data['City'].value_counts().index)"
   ]
  },
  {
   "cell_type": "code",
   "execution_count": 21,
   "id": "b026d09a",
   "metadata": {},
   "outputs": [
    {
     "data": {
      "text/plain": [
       "['ATLANTA GA',\n",
       " 'AUSTIN TX',\n",
       " 'BOSTON MA',\n",
       " 'CHICAGO IL',\n",
       " 'DALLAS TX',\n",
       " 'DENVER CO',\n",
       " 'LOS ANGELES CA',\n",
       " 'MIAMI FL',\n",
       " 'NASHVILLE TN',\n",
       " 'NEW YORK NY',\n",
       " 'ORANGE COUNTY',\n",
       " 'PHOENIX AZ',\n",
       " 'PITTSBURGH PA',\n",
       " 'SACRAMENTO CA',\n",
       " 'SAN DIEGO CA',\n",
       " 'SAN FRANCISCO CA',\n",
       " 'SEATTLE WA',\n",
       " 'SILICON VALLEY',\n",
       " 'TUCSON AZ',\n",
       " 'WASHINGTON DC']"
      ]
     },
     "execution_count": 21,
     "metadata": {},
     "output_type": "execute_result"
    }
   ],
   "source": [
    "sorted(city_data['City'].value_counts().index)"
   ]
  },
  {
   "cell_type": "markdown",
   "id": "b86e45da",
   "metadata": {},
   "source": [
    "The *city_data* dataframe contains 1 additional city i.e. **SAN FRANCISCO CA** which is not present in the *cab_data* dataframe. Hence, we will merge these datadrames on *cab_data*."
   ]
  },
  {
   "cell_type": "code",
   "execution_count": 13,
   "id": "075ecbfc",
   "metadata": {},
   "outputs": [
    {
     "data": {
      "text/html": [
       "<div>\n",
       "<style scoped>\n",
       "    .dataframe tbody tr th:only-of-type {\n",
       "        vertical-align: middle;\n",
       "    }\n",
       "\n",
       "    .dataframe tbody tr th {\n",
       "        vertical-align: top;\n",
       "    }\n",
       "\n",
       "    .dataframe thead th {\n",
       "        text-align: right;\n",
       "    }\n",
       "</style>\n",
       "<table border=\"1\" class=\"dataframe\">\n",
       "  <thead>\n",
       "    <tr style=\"text-align: right;\">\n",
       "      <th></th>\n",
       "      <th>Transaction ID</th>\n",
       "      <th>Date of Travel</th>\n",
       "      <th>Company</th>\n",
       "      <th>City</th>\n",
       "      <th>KM Travelled</th>\n",
       "      <th>Price Charged</th>\n",
       "      <th>Cost of Trip</th>\n",
       "      <th>Population</th>\n",
       "      <th>Users</th>\n",
       "    </tr>\n",
       "  </thead>\n",
       "  <tbody>\n",
       "    <tr>\n",
       "      <th>0</th>\n",
       "      <td>10000011</td>\n",
       "      <td>42377</td>\n",
       "      <td>Pink Cab</td>\n",
       "      <td>ATLANTA GA</td>\n",
       "      <td>30.45</td>\n",
       "      <td>370.95</td>\n",
       "      <td>313.635</td>\n",
       "      <td>814,885</td>\n",
       "      <td>24,701</td>\n",
       "    </tr>\n",
       "    <tr>\n",
       "      <th>1</th>\n",
       "      <td>10000012</td>\n",
       "      <td>42375</td>\n",
       "      <td>Pink Cab</td>\n",
       "      <td>ATLANTA GA</td>\n",
       "      <td>28.62</td>\n",
       "      <td>358.52</td>\n",
       "      <td>334.854</td>\n",
       "      <td>814,885</td>\n",
       "      <td>24,701</td>\n",
       "    </tr>\n",
       "    <tr>\n",
       "      <th>2</th>\n",
       "      <td>10000013</td>\n",
       "      <td>42371</td>\n",
       "      <td>Pink Cab</td>\n",
       "      <td>ATLANTA GA</td>\n",
       "      <td>9.04</td>\n",
       "      <td>125.20</td>\n",
       "      <td>97.632</td>\n",
       "      <td>814,885</td>\n",
       "      <td>24,701</td>\n",
       "    </tr>\n",
       "    <tr>\n",
       "      <th>3</th>\n",
       "      <td>10000014</td>\n",
       "      <td>42376</td>\n",
       "      <td>Pink Cab</td>\n",
       "      <td>ATLANTA GA</td>\n",
       "      <td>33.17</td>\n",
       "      <td>377.40</td>\n",
       "      <td>351.602</td>\n",
       "      <td>814,885</td>\n",
       "      <td>24,701</td>\n",
       "    </tr>\n",
       "    <tr>\n",
       "      <th>4</th>\n",
       "      <td>10000015</td>\n",
       "      <td>42372</td>\n",
       "      <td>Pink Cab</td>\n",
       "      <td>ATLANTA GA</td>\n",
       "      <td>8.73</td>\n",
       "      <td>114.62</td>\n",
       "      <td>97.776</td>\n",
       "      <td>814,885</td>\n",
       "      <td>24,701</td>\n",
       "    </tr>\n",
       "  </tbody>\n",
       "</table>\n",
       "</div>"
      ],
      "text/plain": [
       "   Transaction ID  Date of Travel   Company        City  KM Travelled  \\\n",
       "0        10000011           42377  Pink Cab  ATLANTA GA         30.45   \n",
       "1        10000012           42375  Pink Cab  ATLANTA GA         28.62   \n",
       "2        10000013           42371  Pink Cab  ATLANTA GA          9.04   \n",
       "3        10000014           42376  Pink Cab  ATLANTA GA         33.17   \n",
       "4        10000015           42372  Pink Cab  ATLANTA GA          8.73   \n",
       "\n",
       "   Price Charged  Cost of Trip Population     Users  \n",
       "0         370.95       313.635   814,885    24,701   \n",
       "1         358.52       334.854   814,885    24,701   \n",
       "2         125.20        97.632   814,885    24,701   \n",
       "3         377.40       351.602   814,885    24,701   \n",
       "4         114.62        97.776   814,885    24,701   "
      ]
     },
     "execution_count": 13,
     "metadata": {},
     "output_type": "execute_result"
    }
   ],
   "source": [
    "merge_df1 = pd.merge(cab_data, city_data, on='City', how='left')\n",
    "merge_df1.head(5)"
   ]
  },
  {
   "cell_type": "code",
   "execution_count": 19,
   "id": "3de799a5",
   "metadata": {},
   "outputs": [
    {
     "data": {
      "text/plain": [
       "29290    1\n",
       "18668    1\n",
       "26100    1\n",
       "24894    1\n",
       "24403    1\n",
       "        ..\n",
       "8632     1\n",
       "11586    1\n",
       "11699    1\n",
       "11065    1\n",
       "39761    1\n",
       "Name: Customer ID, Length: 49171, dtype: int64"
      ]
     },
     "execution_count": 19,
     "metadata": {},
     "output_type": "execute_result"
    }
   ],
   "source": [
    "cust_data['Customer ID'].value_counts()"
   ]
  },
  {
   "cell_type": "code",
   "execution_count": 20,
   "id": "7ab9add1",
   "metadata": {},
   "outputs": [
    {
     "data": {
      "text/plain": [
       "494      54\n",
       "2939     53\n",
       "1070     51\n",
       "2766     51\n",
       "1628     50\n",
       "         ..\n",
       "34279     1\n",
       "26182     1\n",
       "33753     1\n",
       "34525     1\n",
       "39761     1\n",
       "Name: Customer ID, Length: 49171, dtype: int64"
      ]
     },
     "execution_count": 20,
     "metadata": {},
     "output_type": "execute_result"
    }
   ],
   "source": [
    "trans_data['Customer ID'].value_counts()"
   ]
  },
  {
   "cell_type": "markdown",
   "id": "26378a27",
   "metadata": {},
   "source": [
    "Merge the *cust_data* and *trans_data* dataframes on **Customer ID** feature. The merge type will be based on *trans_data* as the **Transaction ID** is important as compare to **Customer ID** and it is also used in the *cab_data* dataframe."
   ]
  },
  {
   "cell_type": "code",
   "execution_count": 21,
   "id": "f5b8257d",
   "metadata": {},
   "outputs": [
    {
     "data": {
      "text/html": [
       "<div>\n",
       "<style scoped>\n",
       "    .dataframe tbody tr th:only-of-type {\n",
       "        vertical-align: middle;\n",
       "    }\n",
       "\n",
       "    .dataframe tbody tr th {\n",
       "        vertical-align: top;\n",
       "    }\n",
       "\n",
       "    .dataframe thead th {\n",
       "        text-align: right;\n",
       "    }\n",
       "</style>\n",
       "<table border=\"1\" class=\"dataframe\">\n",
       "  <thead>\n",
       "    <tr style=\"text-align: right;\">\n",
       "      <th></th>\n",
       "      <th>Transaction ID</th>\n",
       "      <th>Customer ID</th>\n",
       "      <th>Payment_Mode</th>\n",
       "      <th>Gender</th>\n",
       "      <th>Age</th>\n",
       "      <th>Income (USD/Month)</th>\n",
       "    </tr>\n",
       "  </thead>\n",
       "  <tbody>\n",
       "    <tr>\n",
       "      <th>0</th>\n",
       "      <td>10000011</td>\n",
       "      <td>29290</td>\n",
       "      <td>Card</td>\n",
       "      <td>Male</td>\n",
       "      <td>28</td>\n",
       "      <td>10813</td>\n",
       "    </tr>\n",
       "    <tr>\n",
       "      <th>1</th>\n",
       "      <td>10000012</td>\n",
       "      <td>27703</td>\n",
       "      <td>Card</td>\n",
       "      <td>Male</td>\n",
       "      <td>27</td>\n",
       "      <td>9237</td>\n",
       "    </tr>\n",
       "    <tr>\n",
       "      <th>2</th>\n",
       "      <td>10000013</td>\n",
       "      <td>28712</td>\n",
       "      <td>Cash</td>\n",
       "      <td>Male</td>\n",
       "      <td>53</td>\n",
       "      <td>11242</td>\n",
       "    </tr>\n",
       "    <tr>\n",
       "      <th>3</th>\n",
       "      <td>10000014</td>\n",
       "      <td>28020</td>\n",
       "      <td>Cash</td>\n",
       "      <td>Male</td>\n",
       "      <td>23</td>\n",
       "      <td>23327</td>\n",
       "    </tr>\n",
       "    <tr>\n",
       "      <th>4</th>\n",
       "      <td>10000015</td>\n",
       "      <td>27182</td>\n",
       "      <td>Card</td>\n",
       "      <td>Male</td>\n",
       "      <td>33</td>\n",
       "      <td>8536</td>\n",
       "    </tr>\n",
       "  </tbody>\n",
       "</table>\n",
       "</div>"
      ],
      "text/plain": [
       "   Transaction ID  Customer ID Payment_Mode Gender  Age  Income (USD/Month)\n",
       "0        10000011        29290         Card   Male   28               10813\n",
       "1        10000012        27703         Card   Male   27                9237\n",
       "2        10000013        28712         Cash   Male   53               11242\n",
       "3        10000014        28020         Cash   Male   23               23327\n",
       "4        10000015        27182         Card   Male   33                8536"
      ]
     },
     "execution_count": 21,
     "metadata": {},
     "output_type": "execute_result"
    }
   ],
   "source": [
    "merge_df2 = pd.merge(trans_data, cust_data, on='Customer ID', how='left')\n",
    "merge_df2.head(5)"
   ]
  },
  {
   "cell_type": "code",
   "execution_count": 23,
   "id": "cf79f833",
   "metadata": {},
   "outputs": [
    {
     "name": "stdout",
     "output_type": "stream",
     "text": [
      "<class 'pandas.core.frame.DataFrame'>\n",
      "Int64Index: 359392 entries, 0 to 359391\n",
      "Data columns (total 9 columns):\n",
      " #   Column          Non-Null Count   Dtype  \n",
      "---  ------          --------------   -----  \n",
      " 0   Transaction ID  359392 non-null  int64  \n",
      " 1   Date of Travel  359392 non-null  int64  \n",
      " 2   Company         359392 non-null  object \n",
      " 3   City            359392 non-null  object \n",
      " 4   KM Travelled    359392 non-null  float64\n",
      " 5   Price Charged   359392 non-null  float64\n",
      " 6   Cost of Trip    359392 non-null  float64\n",
      " 7   Population      359392 non-null  object \n",
      " 8   Users           359392 non-null  object \n",
      "dtypes: float64(3), int64(2), object(4)\n",
      "memory usage: 27.4+ MB\n"
     ]
    }
   ],
   "source": [
    "merge_df1.info()"
   ]
  },
  {
   "cell_type": "code",
   "execution_count": 22,
   "id": "744b2e87",
   "metadata": {},
   "outputs": [
    {
     "name": "stdout",
     "output_type": "stream",
     "text": [
      "<class 'pandas.core.frame.DataFrame'>\n",
      "Int64Index: 440098 entries, 0 to 440097\n",
      "Data columns (total 6 columns):\n",
      " #   Column              Non-Null Count   Dtype \n",
      "---  ------              --------------   ----- \n",
      " 0   Transaction ID      440098 non-null  int64 \n",
      " 1   Customer ID         440098 non-null  int64 \n",
      " 2   Payment_Mode        440098 non-null  object\n",
      " 3   Gender              440098 non-null  object\n",
      " 4   Age                 440098 non-null  int64 \n",
      " 5   Income (USD/Month)  440098 non-null  int64 \n",
      "dtypes: int64(4), object(2)\n",
      "memory usage: 23.5+ MB\n"
     ]
    }
   ],
   "source": [
    "merge_df2.info()"
   ]
  },
  {
   "cell_type": "code",
   "execution_count": 32,
   "id": "2492b97a",
   "metadata": {},
   "outputs": [
    {
     "data": {
      "text/plain": [
       "Transaction ID  Date of Travel  Company  City   KM Travelled  Price Charged  Cost of Trip  Population  Users\n",
       "False           False           False    False  False         False          False         False       False    359392\n",
       "dtype: int64"
      ]
     },
     "execution_count": 32,
     "metadata": {},
     "output_type": "execute_result"
    }
   ],
   "source": [
    "merge_df1.isnull().value_counts()"
   ]
  },
  {
   "cell_type": "markdown",
   "id": "54ae7317",
   "metadata": {},
   "source": [
    "Finally we merge *merge_df1* and *merge_df2* dataframes on **Transation ID** feature."
   ]
  },
  {
   "cell_type": "code",
   "execution_count": 88,
   "id": "d6d27cb7",
   "metadata": {},
   "outputs": [
    {
     "data": {
      "text/html": [
       "<div>\n",
       "<style scoped>\n",
       "    .dataframe tbody tr th:only-of-type {\n",
       "        vertical-align: middle;\n",
       "    }\n",
       "\n",
       "    .dataframe tbody tr th {\n",
       "        vertical-align: top;\n",
       "    }\n",
       "\n",
       "    .dataframe thead th {\n",
       "        text-align: right;\n",
       "    }\n",
       "</style>\n",
       "<table border=\"1\" class=\"dataframe\">\n",
       "  <thead>\n",
       "    <tr style=\"text-align: right;\">\n",
       "      <th></th>\n",
       "      <th>Transaction ID</th>\n",
       "      <th>Date of Travel</th>\n",
       "      <th>Company</th>\n",
       "      <th>City</th>\n",
       "      <th>KM Travelled</th>\n",
       "      <th>Price Charged</th>\n",
       "      <th>Cost of Trip</th>\n",
       "      <th>Population</th>\n",
       "      <th>Users</th>\n",
       "      <th>Customer ID</th>\n",
       "      <th>Payment_Mode</th>\n",
       "      <th>Gender</th>\n",
       "      <th>Age</th>\n",
       "      <th>Income (USD/Month)</th>\n",
       "    </tr>\n",
       "  </thead>\n",
       "  <tbody>\n",
       "    <tr>\n",
       "      <th>0</th>\n",
       "      <td>10000011</td>\n",
       "      <td>42377</td>\n",
       "      <td>Pink Cab</td>\n",
       "      <td>ATLANTA GA</td>\n",
       "      <td>30.45</td>\n",
       "      <td>370.95</td>\n",
       "      <td>313.635</td>\n",
       "      <td>814,885</td>\n",
       "      <td>24,701</td>\n",
       "      <td>29290</td>\n",
       "      <td>Card</td>\n",
       "      <td>Male</td>\n",
       "      <td>28</td>\n",
       "      <td>10813</td>\n",
       "    </tr>\n",
       "    <tr>\n",
       "      <th>1</th>\n",
       "      <td>10000012</td>\n",
       "      <td>42375</td>\n",
       "      <td>Pink Cab</td>\n",
       "      <td>ATLANTA GA</td>\n",
       "      <td>28.62</td>\n",
       "      <td>358.52</td>\n",
       "      <td>334.854</td>\n",
       "      <td>814,885</td>\n",
       "      <td>24,701</td>\n",
       "      <td>27703</td>\n",
       "      <td>Card</td>\n",
       "      <td>Male</td>\n",
       "      <td>27</td>\n",
       "      <td>9237</td>\n",
       "    </tr>\n",
       "    <tr>\n",
       "      <th>2</th>\n",
       "      <td>10000013</td>\n",
       "      <td>42371</td>\n",
       "      <td>Pink Cab</td>\n",
       "      <td>ATLANTA GA</td>\n",
       "      <td>9.04</td>\n",
       "      <td>125.20</td>\n",
       "      <td>97.632</td>\n",
       "      <td>814,885</td>\n",
       "      <td>24,701</td>\n",
       "      <td>28712</td>\n",
       "      <td>Cash</td>\n",
       "      <td>Male</td>\n",
       "      <td>53</td>\n",
       "      <td>11242</td>\n",
       "    </tr>\n",
       "    <tr>\n",
       "      <th>3</th>\n",
       "      <td>10000014</td>\n",
       "      <td>42376</td>\n",
       "      <td>Pink Cab</td>\n",
       "      <td>ATLANTA GA</td>\n",
       "      <td>33.17</td>\n",
       "      <td>377.40</td>\n",
       "      <td>351.602</td>\n",
       "      <td>814,885</td>\n",
       "      <td>24,701</td>\n",
       "      <td>28020</td>\n",
       "      <td>Cash</td>\n",
       "      <td>Male</td>\n",
       "      <td>23</td>\n",
       "      <td>23327</td>\n",
       "    </tr>\n",
       "    <tr>\n",
       "      <th>4</th>\n",
       "      <td>10000015</td>\n",
       "      <td>42372</td>\n",
       "      <td>Pink Cab</td>\n",
       "      <td>ATLANTA GA</td>\n",
       "      <td>8.73</td>\n",
       "      <td>114.62</td>\n",
       "      <td>97.776</td>\n",
       "      <td>814,885</td>\n",
       "      <td>24,701</td>\n",
       "      <td>27182</td>\n",
       "      <td>Card</td>\n",
       "      <td>Male</td>\n",
       "      <td>33</td>\n",
       "      <td>8536</td>\n",
       "    </tr>\n",
       "  </tbody>\n",
       "</table>\n",
       "</div>"
      ],
      "text/plain": [
       "   Transaction ID  Date of Travel   Company        City  KM Travelled  \\\n",
       "0        10000011           42377  Pink Cab  ATLANTA GA         30.45   \n",
       "1        10000012           42375  Pink Cab  ATLANTA GA         28.62   \n",
       "2        10000013           42371  Pink Cab  ATLANTA GA          9.04   \n",
       "3        10000014           42376  Pink Cab  ATLANTA GA         33.17   \n",
       "4        10000015           42372  Pink Cab  ATLANTA GA          8.73   \n",
       "\n",
       "   Price Charged  Cost of Trip Population     Users  Customer ID Payment_Mode  \\\n",
       "0         370.95       313.635   814,885    24,701         29290         Card   \n",
       "1         358.52       334.854   814,885    24,701         27703         Card   \n",
       "2         125.20        97.632   814,885    24,701         28712         Cash   \n",
       "3         377.40       351.602   814,885    24,701         28020         Cash   \n",
       "4         114.62        97.776   814,885    24,701         27182         Card   \n",
       "\n",
       "  Gender  Age  Income (USD/Month)  \n",
       "0   Male   28               10813  \n",
       "1   Male   27                9237  \n",
       "2   Male   53               11242  \n",
       "3   Male   23               23327  \n",
       "4   Male   33                8536  "
      ]
     },
     "execution_count": 88,
     "metadata": {},
     "output_type": "execute_result"
    }
   ],
   "source": [
    "final_df = pd.merge(merge_df1, merge_df2, on='Transaction ID', how='left')\n",
    "final_df.head(5)"
   ]
  },
  {
   "cell_type": "code",
   "execution_count": 89,
   "id": "c802a0b4",
   "metadata": {},
   "outputs": [
    {
     "name": "stdout",
     "output_type": "stream",
     "text": [
      "<class 'pandas.core.frame.DataFrame'>\n",
      "Int64Index: 359392 entries, 0 to 359391\n",
      "Data columns (total 14 columns):\n",
      " #   Column              Non-Null Count   Dtype  \n",
      "---  ------              --------------   -----  \n",
      " 0   Transaction ID      359392 non-null  int64  \n",
      " 1   Date of Travel      359392 non-null  int64  \n",
      " 2   Company             359392 non-null  object \n",
      " 3   City                359392 non-null  object \n",
      " 4   KM Travelled        359392 non-null  float64\n",
      " 5   Price Charged       359392 non-null  float64\n",
      " 6   Cost of Trip        359392 non-null  float64\n",
      " 7   Population          359392 non-null  object \n",
      " 8   Users               359392 non-null  object \n",
      " 9   Customer ID         359392 non-null  int64  \n",
      " 10  Payment_Mode        359392 non-null  object \n",
      " 11  Gender              359392 non-null  object \n",
      " 12  Age                 359392 non-null  int64  \n",
      " 13  Income (USD/Month)  359392 non-null  int64  \n",
      "dtypes: float64(3), int64(5), object(6)\n",
      "memory usage: 41.1+ MB\n"
     ]
    }
   ],
   "source": [
    "final_df.info()"
   ]
  },
  {
   "cell_type": "markdown",
   "id": "6d539957",
   "metadata": {},
   "source": [
    "*Users* and *Population* columns have **Object** as their data type. We change it to **int**."
   ]
  },
  {
   "cell_type": "code",
   "execution_count": 90,
   "id": "81649b97",
   "metadata": {},
   "outputs": [],
   "source": [
    "final_df['Users'] = final_df['Users'].str.replace(',', '').astype(np.int64)\n",
    "final_df['Population'] = final_df['Population'].str.replace(',', '').astype(np.int64)"
   ]
  },
  {
   "cell_type": "markdown",
   "id": "3e7efd50",
   "metadata": {},
   "source": [
    "Vaalues in the *Date of Travel* column are serial number which need to be changed to date format."
   ]
  },
  {
   "cell_type": "code",
   "execution_count": 93,
   "id": "5da9f3f8",
   "metadata": {},
   "outputs": [],
   "source": [
    "final_df['Date of Travel'] = final_df['Date of Travel'].apply(lambda x: xlrd.xldate_as_datetime(x, 0).date())"
   ]
  },
  {
   "cell_type": "markdown",
   "id": "9645cdce",
   "metadata": {},
   "source": [
    "# EDA "
   ]
  },
  {
   "cell_type": "code",
   "execution_count": 92,
   "id": "b698eebe",
   "metadata": {},
   "outputs": [
    {
     "data": {
      "image/png": "[encoded data removed]",
      "text/plain": [
       "<Figure size 576x432 with 1 Axes>"
      ]
     },
     "metadata": {},
     "output_type": "display_data"
    }
   ],
   "source": [
    "sns.set(rc = {'figure.figsize':(8,6)})\n",
    "ax = sns.countplot(x='Company', \n",
    "                  data=final_df)\n",
    "ax.set_title('No. of Customers based on Cab Company', \n",
    "             fontsize=18)\n",
    "for label in ax.containers:\n",
    "    ax.bar_label(label)"
   ]
  },
  {
   "cell_type": "markdown",
   "id": "63d8c56c",
   "metadata": {},
   "source": [
    "There are 2 major cab companies - **Pink** and **Yellow** cab. As per the records, the total number of the **Yellow** cabs accessed by customers is greater than the other."
   ]
  },
  {
   "cell_type": "code",
   "execution_count": null,
   "id": "c45a829a",
   "metadata": {},
   "outputs": [],
   "source": []
  }
 ],
 "metadata": {
  "kernelspec": {
   "display_name": "Python 3 (ipykernel)",
   "language": "python",
   "name": "python3"
  },
  "language_info": {
   "codemirror_mode": {
    "name": "ipython",
    "version": 3
   },
   "file_extension": ".py",
   "mimetype": "text/x-python",
   "name": "python",
   "nbconvert_exporter": "python",
   "pygments_lexer": "ipython3",
   "version": "3.9.12"
  }
 },
 "nbformat": 4,
 "nbformat_minor": 5
}
