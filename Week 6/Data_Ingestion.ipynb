{
 "cells": [
  {
   "cell_type": "markdown",
   "id": "5f0f05e8",
   "metadata": {},
   "source": [
    "# 🎯Aim/Objective"
   ]
  },
  {
   "cell_type": "markdown",
   "id": "d18e7806",
   "metadata": {},
   "source": [
    "- Take any csv file of size 2 GB or more.\n",
    "- Perform loading of data using Pandas, Dask, Modin, and Ray. Also, compare the data loading time with each.\n",
    "- Create YAML file containing the meta data of the dataset such as # of rows, # of columns, column names, file name, file path etc.\n",
    "- Create utility.py file which performs the validations based on the YAML file.\n",
    "- Write the final file into a compressed format, eg. .gz format.\n",
    "- Display summary of the dataset containing # of rows, columns andfile size."
   ]
  },
  {
   "cell_type": "markdown",
   "id": "115fed99",
   "metadata": {},
   "source": [
    "# ⤵️Import Libraries"
   ]
  },
  {
   "cell_type": "code",
   "execution_count": 1,
   "id": "118bd3ca",
   "metadata": {},
   "outputs": [],
   "source": [
    "import os\n",
    "import re\n",
    "import yaml\n",
    "import time\n",
    "import logging\n",
    "import pandas as pd\n",
    "import dask.dataframe as dd\n",
    "import ray as ry\n",
    "import modin.pandas as mpd"
   ]
  },
  {
   "cell_type": "code",
   "execution_count": 2,
   "id": "e333a834",
   "metadata": {},
   "outputs": [],
   "source": [
    "file_path = os.path.join(os.getcwd(), \n",
    "                         'Dataset/archive/game_dataset.csv')"
   ]
  },
  {
   "cell_type": "markdown",
   "id": "ae6a4359",
   "metadata": {},
   "source": [
    "# 📖Different approach of reading file"
   ]
  },
  {
   "cell_type": "markdown",
   "id": "83df8373",
   "metadata": {},
   "source": [
    "## Using Pandas"
   ]
  },
  {
   "cell_type": "code",
   "execution_count": 3,
   "id": "dc149d77",
   "metadata": {},
   "outputs": [
    {
     "name": "stdout",
     "output_type": "stream",
     "text": [
      "Pandas file read efficiency: 94.15625sec\n"
     ]
    }
   ],
   "source": [
    "start_time = time.process_time()\n",
    "pandas_df = pd.read_csv(file_path, \n",
    "                        sep=',')\n",
    "end_time = time.process_time()\n",
    "print(r'Pandas file read efficiency: {}sec'.format(end_time - start_time))"
   ]
  },
  {
   "cell_type": "markdown",
   "id": "fa3ca666",
   "metadata": {},
   "source": [
    "## Using Dask "
   ]
  },
  {
   "cell_type": "code",
   "execution_count": 4,
   "id": "2957d6b1",
   "metadata": {},
   "outputs": [
    {
     "name": "stdout",
     "output_type": "stream",
     "text": [
      "Dask file read efficiency: 0.03125sec\n"
     ]
    }
   ],
   "source": [
    "start_time = time.process_time()\n",
    "dask_df = dd.read_csv(file_path, \n",
    "                      sep=',')\n",
    "end_time = time.process_time()\n",
    "print(r'Dask file read efficiency: {}sec'.format(end_time - start_time))"
   ]
  },
  {
   "cell_type": "markdown",
   "id": "93aeb4f6",
   "metadata": {},
   "source": [
    "## Using Modin & Ray"
   ]
  },
  {
   "cell_type": "code",
   "execution_count": 5,
   "id": "4aff90c0",
   "metadata": {
    "scrolled": true
   },
   "outputs": [
    {
     "name": "stderr",
     "output_type": "stream",
     "text": [
      "2023-11-07 12:34:22,561\tINFO worker.py:1664 -- Started a local Ray instance. View the dashboard at \u001b[1m\u001b[32m127.0.0.1:8265 \u001b[39m\u001b[22m\n"
     ]
    },
    {
     "name": "stdout",
     "output_type": "stream",
     "text": [
      "Modin & Ray file read efficiency: 8.84375sec\n"
     ]
    }
   ],
   "source": [
    "ry.shutdown()\n",
    "ry.init()\n",
    "\n",
    "start_time = time.process_time()\n",
    "modin_df = mpd.read_csv(file_path, \n",
    "                        sep=',')\n",
    "end_time = time.process_time()\n",
    "print(r'Modin & Ray file read efficiency: {}sec'.format(end_time - start_time))"
   ]
  },
  {
   "cell_type": "markdown",
   "id": "beab261c",
   "metadata": {},
   "source": [
    "As you can see, using **Dask** is clearly the best option for reading the csv file as the loading time - **0.03 sec** is less as compared to others."
   ]
  },
  {
   "cell_type": "markdown",
   "id": "7dd00836",
   "metadata": {},
   "source": [
    "# ✍️Write YAML file"
   ]
  },
  {
   "cell_type": "code",
   "execution_count": 10,
   "id": "bba004c7",
   "metadata": {},
   "outputs": [
    {
     "name": "stdout",
     "output_type": "stream",
     "text": [
      "Overwriting schema.yaml\n"
     ]
    }
   ],
   "source": [
    "%%writefile schema.yaml\n",
    "\n",
    "file_type: csv\n",
    "file_name: game_dataset\n",
    "file_path: 'Dataset/archive/game_dataset.csv'\n",
    "inbound_delimiter: \",\"\n",
    "outbound_delimiter: \"|\"\n",
    "columns: \n",
    "    - app_id\n",
    "    - app_name\n",
    "    - review_id\n",
    "    - language\n",
    "    - review\n",
    "    - timestamp_created\n",
    "    - timestamp_updated\n",
    "    - recommended\n",
    "    - votes_helpful"
   ]
  },
  {
   "cell_type": "markdown",
   "id": "41185d84",
   "metadata": {},
   "source": [
    "# 📂Generate Utility file"
   ]
  },
  {
   "cell_type": "code",
   "execution_count": 11,
   "id": "3dc987bf",
   "metadata": {},
   "outputs": [
    {
     "name": "stdout",
     "output_type": "stream",
     "text": [
      "Overwriting utility_val.py\n"
     ]
    }
   ],
   "source": [
    "%%writefile utility_val.py\n",
    "\n",
    "import os\n",
    "import re\n",
    "import yaml\n",
    "import time\n",
    "import logging\n",
    "import pandas as pd\n",
    "\n",
    "def read_yaml_file(file):\n",
    "    with open(file, 'r') as f:\n",
    "        try:\n",
    "            return yaml.safe_load(f)\n",
    "        except yaml.YAMLError as e:\n",
    "            logging.error(e)\n",
    "            \n",
    "def validate(df, config_data):\n",
    "    \n",
    "    if 'columns' not in config_data:\n",
    "        print('Error: Columns dictionary missing in the config file. Can\\'t validate')\n",
    "    else:\n",
    "        config_cols = sorted(config_data['columns'])\n",
    "        df_cols = sorted(df.columns)\n",
    "        \n",
    "        # Remove leading or trailing white spaces\n",
    "        df.columns = list(map(lambda x:x.strip(), \n",
    "                              list(df.columns)))\n",
    "        \n",
    "        # Convert to lowercase\n",
    "        df.columns = list(map(lambda x:x.lower(), \n",
    "                              list(df.columns)))\n",
    "        \n",
    "        # Remove any special characters\n",
    "        df.columns = list(map(lambda x:re.sub('[^a-z_]+', '', x) if x != 'Unnamed: 0' else x, \n",
    "                              list(df.columns)))\n",
    "        \n",
    "        if len(config_cols) != len(df_cols):\n",
    "            print('Error: Invalid number of columns in either config_file/dataset.')\n",
    "            return 0\n",
    "        elif list(config_cols) != list(df_cols):\n",
    "            print('Error: Column names not matching as per config file.')\n",
    "            return 0\n",
    "        else:\n",
    "            print('All tests passed.')\n",
    "            return 1"
   ]
  },
  {
   "cell_type": "code",
   "execution_count": 3,
   "id": "ce5029ff",
   "metadata": {},
   "outputs": [
    {
     "data": {
      "text/plain": [
       "{'file_type': 'csv',\n",
       " 'file_name': 'game_dataset',\n",
       " 'file_path': 'Dataset/archive/game_dataset.csv',\n",
       " 'inbound_delimiter': ',',\n",
       " 'outbound_delimiter': '|',\n",
       " 'columns': ['app_id',\n",
       "  'app_name',\n",
       "  'review_id',\n",
       "  'language',\n",
       "  'review',\n",
       "  'timestamp_created',\n",
       "  'timestamp_updated',\n",
       "  'recommended',\n",
       "  'votes_helpful']}"
      ]
     },
     "execution_count": 3,
     "metadata": {},
     "output_type": "execute_result"
    }
   ],
   "source": [
    "import utility_val as util\n",
    "\n",
    "config_data = util.read_yaml_file(os.path.join(os.getcwd(), \n",
    "                                               'schema.yaml'))\n",
    "config_data"
   ]
  },
  {
   "cell_type": "code",
   "execution_count": 4,
   "id": "82edf915",
   "metadata": {},
   "outputs": [
    {
     "data": {
      "text/html": [
       "<div>\n",
       "<style scoped>\n",
       "    .dataframe tbody tr th:only-of-type {\n",
       "        vertical-align: middle;\n",
       "    }\n",
       "\n",
       "    .dataframe tbody tr th {\n",
       "        vertical-align: top;\n",
       "    }\n",
       "\n",
       "    .dataframe thead th {\n",
       "        text-align: right;\n",
       "    }\n",
       "</style>\n",
       "<table border=\"1\" class=\"dataframe\">\n",
       "  <thead>\n",
       "    <tr style=\"text-align: right;\">\n",
       "      <th></th>\n",
       "      <th>Unnamed: 0</th>\n",
       "      <th>app_id</th>\n",
       "      <th>app_name</th>\n",
       "      <th>review_id</th>\n",
       "      <th>language</th>\n",
       "      <th>review</th>\n",
       "      <th>timestamp_created</th>\n",
       "      <th>timestamp_updated</th>\n",
       "      <th>recommended</th>\n",
       "      <th>votes_helpful</th>\n",
       "    </tr>\n",
       "  </thead>\n",
       "  <tbody>\n",
       "    <tr>\n",
       "      <th>0</th>\n",
       "      <td>0</td>\n",
       "      <td>292030</td>\n",
       "      <td>The Witcher 3: Wild Hunt</td>\n",
       "      <td>85185598</td>\n",
       "      <td>schinese</td>\n",
       "      <td>不玩此生遗憾，RPG游戏里的天花板，太吸引人了</td>\n",
       "      <td>1611381629</td>\n",
       "      <td>1611381629</td>\n",
       "      <td>True</td>\n",
       "      <td>0</td>\n",
       "    </tr>\n",
       "    <tr>\n",
       "      <th>1</th>\n",
       "      <td>1</td>\n",
       "      <td>292030</td>\n",
       "      <td>The Witcher 3: Wild Hunt</td>\n",
       "      <td>85185250</td>\n",
       "      <td>schinese</td>\n",
       "      <td>拔DIAO无情打桩机--杰洛特!!!</td>\n",
       "      <td>1611381030</td>\n",
       "      <td>1611381030</td>\n",
       "      <td>True</td>\n",
       "      <td>0</td>\n",
       "    </tr>\n",
       "    <tr>\n",
       "      <th>2</th>\n",
       "      <td>2</td>\n",
       "      <td>292030</td>\n",
       "      <td>The Witcher 3: Wild Hunt</td>\n",
       "      <td>85185111</td>\n",
       "      <td>schinese</td>\n",
       "      <td>巫师3NB</td>\n",
       "      <td>1611380800</td>\n",
       "      <td>1611380800</td>\n",
       "      <td>True</td>\n",
       "      <td>0</td>\n",
       "    </tr>\n",
       "    <tr>\n",
       "      <th>3</th>\n",
       "      <td>3</td>\n",
       "      <td>292030</td>\n",
       "      <td>The Witcher 3: Wild Hunt</td>\n",
       "      <td>85184605</td>\n",
       "      <td>english</td>\n",
       "      <td>One of the best RPG's of all time, worthy of a...</td>\n",
       "      <td>1611379970</td>\n",
       "      <td>1611379970</td>\n",
       "      <td>True</td>\n",
       "      <td>0</td>\n",
       "    </tr>\n",
       "    <tr>\n",
       "      <th>4</th>\n",
       "      <td>4</td>\n",
       "      <td>292030</td>\n",
       "      <td>The Witcher 3: Wild Hunt</td>\n",
       "      <td>85184287</td>\n",
       "      <td>schinese</td>\n",
       "      <td>大作</td>\n",
       "      <td>1611379427</td>\n",
       "      <td>1611379427</td>\n",
       "      <td>True</td>\n",
       "      <td>0</td>\n",
       "    </tr>\n",
       "  </tbody>\n",
       "</table>\n",
       "</div>"
      ],
      "text/plain": [
       "   Unnamed: 0  app_id                  app_name  review_id  language  \\\n",
       "0           0  292030  The Witcher 3: Wild Hunt   85185598  schinese   \n",
       "1           1  292030  The Witcher 3: Wild Hunt   85185250  schinese   \n",
       "2           2  292030  The Witcher 3: Wild Hunt   85185111  schinese   \n",
       "3           3  292030  The Witcher 3: Wild Hunt   85184605   english   \n",
       "4           4  292030  The Witcher 3: Wild Hunt   85184287  schinese   \n",
       "\n",
       "                                              review  timestamp_created  \\\n",
       "0                            不玩此生遗憾，RPG游戏里的天花板，太吸引人了         1611381629   \n",
       "1                                 拔DIAO无情打桩机--杰洛特!!!         1611381030   \n",
       "2                                              巫师3NB         1611380800   \n",
       "3  One of the best RPG's of all time, worthy of a...         1611379970   \n",
       "4                                                 大作         1611379427   \n",
       "\n",
       "   timestamp_updated  recommended  votes_helpful  \n",
       "0         1611381629         True              0  \n",
       "1         1611381030         True              0  \n",
       "2         1611380800         True              0  \n",
       "3         1611379970         True              0  \n",
       "4         1611379427         True              0  "
      ]
     },
     "execution_count": 4,
     "metadata": {},
     "output_type": "execute_result"
    }
   ],
   "source": [
    "config_data['file_path'] = config_data['file_path'].replace('/', '\\\\')\n",
    "file_path = os.path.join(os.getcwd(), \n",
    "                         config_data['file_path'])\n",
    "delimeter = str(config_data['inbound_delimiter'])\n",
    "pandas_df = pd.read_csv(file_path, \n",
    "                        sep=delimeter)\n",
    "pandas_df.head()"
   ]
  },
  {
   "cell_type": "markdown",
   "id": "90323341",
   "metadata": {},
   "source": [
    "# ✅Validation"
   ]
  },
  {
   "cell_type": "code",
   "execution_count": 5,
   "id": "884a51c0",
   "metadata": {},
   "outputs": [
    {
     "name": "stdout",
     "output_type": "stream",
     "text": [
      "Error: Invalid number of columns in either config_file/dataset.\n"
     ]
    },
    {
     "data": {
      "text/plain": [
       "0"
      ]
     },
     "execution_count": 5,
     "metadata": {},
     "output_type": "execute_result"
    }
   ],
   "source": [
    "util.validate(pandas_df, \n",
    "              config_data)"
   ]
  },
  {
   "cell_type": "code",
   "execution_count": 6,
   "id": "daa0c5de",
   "metadata": {},
   "outputs": [
    {
     "data": {
      "text/plain": [
       "Index(['unnamed', 'app_id', 'app_name', 'review_id', 'language', 'review',\n",
       "       'timestamp_created', 'timestamp_updated', 'recommended',\n",
       "       'votes_helpful'],\n",
       "      dtype='object')"
      ]
     },
     "execution_count": 6,
     "metadata": {},
     "output_type": "execute_result"
    }
   ],
   "source": [
    "pandas_df.columns"
   ]
  },
  {
   "cell_type": "code",
   "execution_count": 7,
   "id": "be4a4632",
   "metadata": {},
   "outputs": [
    {
     "data": {
      "text/plain": [
       "['app_id',\n",
       " 'app_name',\n",
       " 'review_id',\n",
       " 'language',\n",
       " 'review',\n",
       " 'timestamp_created',\n",
       " 'timestamp_updated',\n",
       " 'recommended',\n",
       " 'votes_helpful']"
      ]
     },
     "execution_count": 7,
     "metadata": {},
     "output_type": "execute_result"
    }
   ],
   "source": [
    "config_data['columns']"
   ]
  },
  {
   "cell_type": "code",
   "execution_count": 8,
   "id": "99fc04e2",
   "metadata": {},
   "outputs": [
    {
     "name": "stdout",
     "output_type": "stream",
     "text": [
      "All tests passed.\n"
     ]
    },
    {
     "data": {
      "text/plain": [
       "1"
      ]
     },
     "execution_count": 8,
     "metadata": {},
     "output_type": "execute_result"
    }
   ],
   "source": [
    "# Remove the 1st column\n",
    "pandas_df.drop('unnamed', \n",
    "               axis=1, \n",
    "               inplace=True)\n",
    "util.validate(pandas_df, \n",
    "              config_data)"
   ]
  },
  {
   "cell_type": "markdown",
   "id": "9c11e310",
   "metadata": {},
   "source": [
    "# 💾Save the file in 'gz' format"
   ]
  },
  {
   "cell_type": "code",
   "execution_count": 9,
   "id": "84e7bac9",
   "metadata": {},
   "outputs": [
    {
     "data": {
      "text/plain": [
       "'|'"
      ]
     },
     "execution_count": 9,
     "metadata": {},
     "output_type": "execute_result"
    }
   ],
   "source": [
    "outbound_del = config_data['outbound_delimiter']\n",
    "outbound_del"
   ]
  },
  {
   "cell_type": "code",
   "execution_count": 10,
   "id": "3d5fccc6",
   "metadata": {},
   "outputs": [],
   "source": [
    "pandas_df.to_csv('outfile.csv.gz', \n",
    "                 sep=outbound_del, \n",
    "                 compression='gzip', \n",
    "                 index=False)"
   ]
  },
  {
   "cell_type": "markdown",
   "id": "a39ce4fa",
   "metadata": {},
   "source": [
    "# Summary of Dataset"
   ]
  },
  {
   "cell_type": "code",
   "execution_count": 18,
   "id": "96c9124f",
   "metadata": {},
   "outputs": [
    {
     "name": "stdout",
     "output_type": "stream",
     "text": [
      "No. of Columns: 9\n",
      "No. of Rows: 21747371\n",
      "Outfile compressed file size: 2.247827772051096 GB\n"
     ]
    }
   ],
   "source": [
    "print('No. of Columns: {}'.format(len(pandas_df.columns)))\n",
    "print('No. of Rows: {}'.format(len(pandas_df)))\n",
    "print('Outfile compressed file size: {} GB'.format((os.stat('outfile.csv.gz')).st_size / (1024 * 1024 * 1024)))"
   ]
  },
  {
   "cell_type": "markdown",
   "id": "b0b740de",
   "metadata": {},
   "source": [
    "Due to large compressed file size, it can't be uploaded to git"
   ]
  }
 ],
 "metadata": {
  "kernelspec": {
   "display_name": "Python 3 (ipykernel)",
   "language": "python",
   "name": "python3"
  },
  "language_info": {
   "codemirror_mode": {
    "name": "ipython",
    "version": 3
   },
   "file_extension": ".py",
   "mimetype": "text/x-python",
   "name": "python",
   "nbconvert_exporter": "python",
   "pygments_lexer": "ipython3",
   "version": "3.9.12"
  }
 },
 "nbformat": 4,
 "nbformat_minor": 5
}
